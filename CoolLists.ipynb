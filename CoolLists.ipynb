{
  "nbformat": 4,
  "nbformat_minor": 0,
  "metadata": {
    "colab": {
      "name": "CoolLists.ipynb",
      "provenance": [],
      "authorship_tag": "ABX9TyOUlikm1a24p74EBbnUCdFw",
      "include_colab_link": true
    },
    "kernelspec": {
      "name": "python3",
      "display_name": "Python 3"
    },
    "language_info": {
      "name": "python"
    }
  },
  "cells": [
    {
      "cell_type": "markdown",
      "metadata": {
        "id": "view-in-github",
        "colab_type": "text"
      },
      "source": [
        "<a href=\"https://colab.research.google.com/github/Freudelientje/How-to-Learn-Python-/blob/main/CoolLists.ipynb\" target=\"_parent\"><img src=\"https://colab.research.google.com/assets/colab-badge.svg\" alt=\"Open In Colab\"/></a>"
      ]
    },
    {
      "cell_type": "code",
      "metadata": {
        "colab": {
          "base_uri": "https://localhost:8080/"
        },
        "id": "AX8u6E2HdfiC",
        "outputId": "32e31040-68a7-4e9b-defb-d970cf62ab2a"
      },
      "source": [
        "nouns = [ \"sun\" , \"dog\" , \"water\", \"fish\", \"dish\" ]\n",
        "print(nouns[0])"
      ],
      "execution_count": null,
      "outputs": [
        {
          "output_type": "stream",
          "name": "stdout",
          "text": [
            "sun\n"
          ]
        }
      ]
    },
    {
      "cell_type": "code",
      "metadata": {
        "id": "nUqnv3PkjMHf"
      },
      "source": [
        ""
      ],
      "execution_count": null,
      "outputs": []
    },
    {
      "cell_type": "code",
      "metadata": {
        "colab": {
          "base_uri": "https://localhost:8080/"
        },
        "id": "nlANvkBMh-Es",
        "outputId": "46b16e9c-0e50-469e-e49f-3a8d838f253f"
      },
      "source": [
        "print(\n",
        "    \"Yesterday,\", random.choice(persons), \"and I went to the park. \\nOn our way to the\",\n",
        "    random.choice(adjectives), \"park, we saw a\", random.choice(adjectives), \n",
        "    random.choice(adjectives), random.choice(nouns), \"on a bike.\\nWe also saw\", \n",
        "    random.choice(adjectives), \"balloons tied to a\", random.choice(nouns),\n",
        "    \"Once we got to the Park, the\", random.choice(adjectives), random.choices(nouns), \"started to\", random.choice(verbs), \n",
        ")"
      ],
      "execution_count": null,
      "outputs": [
        {
          "output_type": "stream",
          "name": "stdout",
          "text": [
            "Yesterday, Esther and I went to the park. \n",
            "On our way to the big park, we saw a ugly small fork on a bike.\n",
            "We also saw big balloons tied to a water Once we got to the Park, the long ['spoon'] started to sleeps\n"
          ]
        }
      ]
    },
    {
      "cell_type": "code",
      "metadata": {
        "colab": {
          "base_uri": "https://localhost:8080/"
        },
        "id": "KqFaX77YhevG",
        "outputId": "9cb9c0ef-771e-4685-eced-f799848e15c7"
      },
      "source": [
        "persons = [\"Esther\", \"Pepijn\", \"Bikkel\", \"Sombra\", \"Jill\"]\n",
        "print(persons)"
      ],
      "execution_count": null,
      "outputs": [
        {
          "output_type": "stream",
          "name": "stdout",
          "text": [
            "['Esther', 'Pepijn', 'Bikkel', 'Sombra', 'Jill']\n"
          ]
        }
      ]
    },
    {
      "cell_type": "code",
      "metadata": {
        "id": "itpLtX5hh9C5"
      },
      "source": [
        ""
      ],
      "execution_count": null,
      "outputs": []
    },
    {
      "cell_type": "code",
      "metadata": {
        "colab": {
          "base_uri": "https://localhost:8080/"
        },
        "id": "YiPOkWWjdyoZ",
        "outputId": "c0a5d532-654c-4d46-da21-9ddcfb4b08f0"
      },
      "source": [
        "nouns = [ \"sun\" , \"dog\" , \"water\", \"fish\", \"dish\" ]\n",
        "print(nouns[2])"
      ],
      "execution_count": null,
      "outputs": [
        {
          "output_type": "stream",
          "name": "stdout",
          "text": [
            "water\n"
          ]
        }
      ]
    },
    {
      "cell_type": "code",
      "metadata": {
        "colab": {
          "base_uri": "https://localhost:8080/"
        },
        "id": "O9cdj4gdd7GM",
        "outputId": "e549925d-cf6b-45d3-9473-dd5d1ed4e3e9"
      },
      "source": [
        "nouns.sort()\n",
        "print(nouns)"
      ],
      "execution_count": null,
      "outputs": [
        {
          "output_type": "stream",
          "name": "stdout",
          "text": [
            "['dish', 'dog', 'fish', 'sun', 'water']\n"
          ]
        }
      ]
    },
    {
      "cell_type": "code",
      "metadata": {
        "colab": {
          "base_uri": "https://localhost:8080/"
        },
        "id": "X7ixs-LyeCJJ",
        "outputId": "8fd17cd6-bd65-480b-c1d8-bf9e8903a648"
      },
      "source": [
        "nouns.append(\"cow\")\n",
        "print(nouns)"
      ],
      "execution_count": null,
      "outputs": [
        {
          "output_type": "stream",
          "name": "stdout",
          "text": [
            "['dish', 'dog', 'fish', 'sun', 'water', 'cow']\n"
          ]
        }
      ]
    },
    {
      "cell_type": "code",
      "metadata": {
        "colab": {
          "base_uri": "https://localhost:8080/"
        },
        "id": "2RdtB6SyeJmF",
        "outputId": "62a376cf-461a-4728-98a9-0aa2ee849c11"
      },
      "source": [
        "nouns.extend([\"spoon\",\"fork\"])\n",
        "print(nouns)"
      ],
      "execution_count": null,
      "outputs": [
        {
          "output_type": "stream",
          "name": "stdout",
          "text": [
            "['dish', 'dog', 'fish', 'sun', 'water', 'cow', 'spoon', 'fork']\n"
          ]
        }
      ]
    },
    {
      "cell_type": "code",
      "metadata": {
        "colab": {
          "base_uri": "https://localhost:8080/"
        },
        "id": "Fy_9QGEFfJ63",
        "outputId": "377328a7-e599-4b70-dd4b-7b75335313cc"
      },
      "source": [
        "adjectives=[\"small\", \"big\", \"long\", \"small\", \"red\", \"ugly\", \"smelly\"]\n",
        "verbs=[\"dances\", \"eats\", \"travels\", \"sings\", \"sleeps\", \"reads\", \"dances\"]\n",
        "import random\n",
        "print(\"The\", random.choice(adjectives),random.choice(nouns),random.choice(verbs), \"the\", random.choice(adjectives), random.choice(nouns))"
      ],
      "execution_count": null,
      "outputs": [
        {
          "output_type": "stream",
          "name": "stdout",
          "text": [
            "The long cow sleeps the red fork\n"
          ]
        }
      ]
    }
  ]
}