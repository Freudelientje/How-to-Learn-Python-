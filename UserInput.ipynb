{
  "nbformat": 4,
  "nbformat_minor": 0,
  "metadata": {
    "colab": {
      "name": "UserInput.ipynb",
      "provenance": [],
      "authorship_tag": "ABX9TyO8xzCkK8LIJZhseQyRwypl",
      "include_colab_link": true
    },
    "kernelspec": {
      "name": "python3",
      "display_name": "Python 3"
    },
    "language_info": {
      "name": "python"
    }
  },
  "cells": [
    {
      "cell_type": "markdown",
      "metadata": {
        "id": "view-in-github",
        "colab_type": "text"
      },
      "source": [
        "<a href=\"https://colab.research.google.com/github/Freudelientje/How-to-Learn-Python-/blob/main/UserInput.ipynb\" target=\"_parent\"><img src=\"https://colab.research.google.com/assets/colab-badge.svg\" alt=\"Open In Colab\"/></a>"
      ]
    },
    {
      "cell_type": "code",
      "metadata": {
        "colab": {
          "base_uri": "https://localhost:8080/"
        },
        "id": "wj2aETVGk9Xy",
        "outputId": "42015ad5-fac0-4f09-9d9d-9d407980881c"
      },
      "source": [
        "import random\n",
        "x = input( \"Enter a number between 1 and 100: \" )\n",
        "computerNumber = random.randint( 1 , 100 )\n",
        "print(\"My number is: \", computerNumber)\n",
        "if (int(computerNumber) > int(x)):\n",
        "  print( \"My number is higher!\" )\n",
        "elif( int (x) > int ( 100 )) :\n",
        "  print ( \"But you cheated!\" )\n",
        "else:\n",
        "  print( \"Your number is higher!\" )\n"
      ],
      "execution_count": null,
      "outputs": [
        {
          "output_type": "stream",
          "name": "stdout",
          "text": [
            "Enter a number between 1 and 100: 101\n",
            "My number is:  85\n",
            "But you cheated!\n"
          ]
        }
      ]
    },
    {
      "cell_type": "code",
      "metadata": {
        "colab": {
          "base_uri": "https://localhost:8080/"
        },
        "id": "h6Ja37Rbmr-u",
        "outputId": "4d35ec30-bf47-40b3-e352-28d8d573b3a7"
      },
      "source": [
        "import random\n",
        "computerNumber = random.randint( 0 , 0 )\n",
        "x = input ( \"Type a random number.\" )\n",
        "if ( int (x) > computerNumber):\n",
        "  print ( \"Ughhh! You won. You chose a bigger number then me :(\" )\n",
        "else :\n",
        "  print ( \"Yesss! I won! My number was bigger then yours!\" )\n",
        "  print ( \"My number was:\" , computerNumber)"
      ],
      "execution_count": null,
      "outputs": [
        {
          "output_type": "stream",
          "name": "stdout",
          "text": [
            "Type a random number.101\n",
            "Ughhh! You won. You chose a bigger number then me :(\n"
          ]
        }
      ]
    },
    {
      "cell_type": "code",
      "metadata": {
        "colab": {
          "base_uri": "https://localhost:8080/"
        },
        "id": "6neRTR8pnVo3",
        "outputId": "c61f8b84-e77e-47b4-f04d-dcb39bd9d25c"
      },
      "source": [
        "\n",
        "sum=0\n",
        "number=1\n",
        "while(number<1000):\n",
        "  sum=sum+number\n",
        "  number=number+1\n",
        "print(number)\n",
        "print(sum)"
      ],
      "execution_count": null,
      "outputs": [
        {
          "output_type": "stream",
          "name": "stdout",
          "text": [
            "1000\n",
            "499500\n"
          ]
        }
      ]
    },
    {
      "cell_type": "code",
      "metadata": {
        "colab": {
          "base_uri": "https://localhost:8080/"
        },
        "id": "6r066Ezkp8-R",
        "outputId": "55ce02ab-f046-4075-f0fc-e684e4957458"
      },
      "source": [
        "print ( \"I will help you with a lot of math today\" )\n",
        "signal = \"\"\n",
        "while (signal != \"stop\" ):\n",
        "  a = input ( \"Tell me a number.\" )\n",
        "  b = input ( \"Tell me another number:\" )\n",
        "  print ( \"This is the addition of those two numbers: \" ,\n",
        "  int (a)+ int (b))\n",
        "  signal = input ( \"Do you want more help? Say stop if you want to quit\" )"
      ],
      "execution_count": null,
      "outputs": [
        {
          "name": "stdout",
          "output_type": "stream",
          "text": [
            "I will help you with a lot of math today\n",
            "Tell me a number.5\n",
            "Tell me another number:5\n",
            "This is the addition of those two numbers:  10\n",
            "Do you want more help? Say stop if you want to quit6\n",
            "Tell me a number.9\n",
            "Tell me another number:9\n",
            "This is the addition of those two numbers:  18\n",
            "Do you want more help? Say stop if you want to quitstop\n"
          ]
        }
      ]
    }
  ]
}