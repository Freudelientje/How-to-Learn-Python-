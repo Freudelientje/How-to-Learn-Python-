{
  "nbformat": 4,
  "nbformat_minor": 0,
  "metadata": {
    "colab": {
      "name": "concatenate.ipynb",
      "provenance": [],
      "authorship_tag": "ABX9TyOsGwmJe9+bdB0tPI7elhNa",
      "include_colab_link": true
    },
    "kernelspec": {
      "name": "python3",
      "display_name": "Python 3"
    },
    "language_info": {
      "name": "python"
    }
  },
  "cells": [
    {
      "cell_type": "markdown",
      "metadata": {
        "id": "view-in-github",
        "colab_type": "text"
      },
      "source": [
        "<a href=\"https://colab.research.google.com/github/Freudelientje/How-to-Learn-Python-/blob/main/concatenate.ipynb\" target=\"_parent\"><img src=\"https://colab.research.google.com/assets/colab-badge.svg\" alt=\"Open In Colab\"/></a>"
      ]
    },
    {
      "cell_type": "code",
      "metadata": {
        "colab": {
          "base_uri": "https://localhost:8080/"
        },
        "id": "wMJm62OuUBq4",
        "outputId": "045b427b-6fed-47bb-b834-dac70dbe09ae"
      },
      "source": [
        "first_name=input(\"what is your first name? \")\n",
        "last_name=input(\"what is your last name? \")\n",
        "print(\"Thank you!\")\n",
        "print(\"\\nYour full name is\", first_name+\" \"+last_name)"
      ],
      "execution_count": null,
      "outputs": [
        {
          "output_type": "stream",
          "name": "stdout",
          "text": [
            "what is your first name? Esther\n",
            "what is your last name? Philippen\n",
            "Thank you!\n",
            "\n",
            "Your full name is Esther Philippen\n"
          ]
        }
      ]
    },
    {
      "cell_type": "code",
      "metadata": {
        "colab": {
          "base_uri": "https://localhost:8080/"
        },
        "id": "VqgqH3CpUI5v",
        "outputId": "52a13dbb-444b-4271-ae31-bff607c7e565"
      },
      "source": [
        "first_name=input(\"what is your first name? \")\n",
        "last_name=input(\"what is your last name? \")\n",
        "print(\"Thank you!\")\n",
        "print(\"\\nYour full name is\", first_name,last_name)"
      ],
      "execution_count": null,
      "outputs": [
        {
          "output_type": "stream",
          "name": "stdout",
          "text": [
            "what is your first name? Esther\n",
            "what is your last name? Philippen\n",
            "Thank you!\n",
            "\n",
            "Your full name is Esther Philippen\n"
          ]
        }
      ]
    },
    {
      "cell_type": "code",
      "metadata": {
        "colab": {
          "base_uri": "https://localhost:8080/"
        },
        "id": "RtNyjEnuUPJy",
        "outputId": "0f1aa895-5d13-40d2-c970-1833532db893"
      },
      "source": [
        "fnam = input(\"May I have your first name, please? \")\n",
        "lnam = input(\"May I have your last name, please? \")\n",
        "print(\"Thank you.\")\n",
        "print(\"\\nYour name is \" + fnam + \" \" + lnam + \".\")"
      ],
      "execution_count": null,
      "outputs": [
        {
          "output_type": "stream",
          "name": "stdout",
          "text": [
            "May I have your first name, please? Esther\n",
            "May I have your last name, please? Philippen\n",
            "Thank you.\n",
            "\n",
            "Your name is Esther Philippen.\n"
          ]
        }
      ]
    }
  ]
}